{
 "cells": [
  {
   "cell_type": "code",
   "execution_count": 1,
   "metadata": {},
   "outputs": [
    {
     "data": {
      "application/vnd.jupyter.widget-view+json": {
       "model_id": "bc6985bf0b504f8a835c5713360792db",
       "version_major": 2,
       "version_minor": 0
      },
      "text/plain": [
       "FigureWidget({\n",
       "    'data': [{'hovertemplate': 'x: %{x}<br>y: %{y}<br>color: [%{z[0]}, %{z[1]}, %{z[2]}]<extra></extra>',\n",
       "              'name': '0',\n",
       "              'source': ('data:image/png;base64,iVBORw0K' ... 'GdBAEqwO+5mwAAAABJRU5ErkJggg=='),\n",
       "              'type': 'image',\n",
       "              'uid': 'abc358e2-ae1e-4dbe-8717-fe45c50cf4b8',\n",
       "              'xaxis': 'x',\n",
       "              'yaxis': 'y'}],\n",
       "    'layout': {'template': '...'}\n",
       "})"
      ]
     },
     "metadata": {},
     "output_type": "display_data"
    }
   ],
   "source": [
    "import plotly.graph_objects as go\n",
    "import plotly.express as px\n",
    "import numpy as np\n",
    "\n",
    "\n",
    "def on_click_figure(trace, points, state):\n",
    "    x, y = points.point_inds[0]\n",
    "    print(x, y)\n",
    "\n",
    "\n",
    "sz = 512\n",
    "img_arr = np.zeros((sz, sz), dtype=np.uint8)\n",
    "for i in range(sz):\n",
    "    for j in range(sz):\n",
    "        img_arr[i, j] = int(255 * (i + j) / (2 * sz))\n",
    "img_arr = np.stack([img_arr] * 3, axis=2)\n",
    "\n",
    "img_trace = px.imshow(img_arr)\n",
    "img_fig = go.FigureWidget()\n",
    "img_fig.add_trace(img_trace.data[0])\n",
    "img_fig.data[0].on_click(on_click_figure)\n",
    "display(img_fig)\n"
   ]
  },
  {
   "cell_type": "code",
   "execution_count": null,
   "metadata": {},
   "outputs": [],
   "source": []
  }
 ],
 "metadata": {
  "kernelspec": {
   "display_name": "Python 3 (ipykernel)",
   "language": "python",
   "name": "python3"
  },
  "language_info": {
   "codemirror_mode": {
    "name": "ipython",
    "version": 3
   },
   "file_extension": ".py",
   "mimetype": "text/x-python",
   "name": "python",
   "nbconvert_exporter": "python",
   "pygments_lexer": "ipython3",
   "version": "3.10.6"
  }
 },
 "nbformat": 4,
 "nbformat_minor": 2
}
